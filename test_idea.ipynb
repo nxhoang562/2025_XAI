{
 "cells": [
  {
   "cell_type": "code",
   "execution_count": 24,
   "metadata": {},
   "outputs": [],
   "source": [
    "import numpy as np \n",
    "from sklearn.cluster import KMeans \n",
    "import itertools\n",
    "import pulp"
   ]
  },
  {
   "cell_type": "code",
   "execution_count": 25,
   "metadata": {},
   "outputs": [],
   "source": [
    "np.random.seed(42)"
   ]
  },
  {
   "cell_type": "code",
   "execution_count": 26,
   "metadata": {},
   "outputs": [],
   "source": [
    "def group_matrices(list_matrix, k):\n",
    "    \"\"\"\n",
    "    Args:\n",
    "        list_matrix : list of matrices \n",
    "        k (int): number of clusters \n",
    "    \"\"\"\n",
    "    if not isinstance(k, int):\n",
    "        raise ValueError(\"k must be an integer\")\n",
    "    \n",
    "    num = list_matrix.shape[0]\n",
    "    # a sample as a matrix, e.g 7x7 => we have 49 features \n",
    "    data = list_matrix.reshape(num, -1)\n",
    "    \n",
    "    model = KMeans(n_clusters=k, random_state=42)\n",
    "    model.fit(data)\n",
    "    labels = model.labels_\n",
    "    \n",
    "    clusters = [[] for _ in range(k)]\n",
    "    for idx, label in enumerate(labels):\n",
    "        clusters[label].append(list_matrix[idx])\n",
    "    \n",
    "    groups = [np.array(group) for group in clusters]\n",
    "    \n",
    "    return groups"
   ]
  },
  {
   "cell_type": "code",
   "execution_count": 27,
   "metadata": {},
   "outputs": [
    {
     "name": "stdout",
     "output_type": "stream",
     "text": [
      "Cluster 0: shape (1, 7, 7)\n",
      "Cluster 1: shape (14, 7, 7)\n",
      "Cluster 2: shape (11, 7, 7)\n",
      "Cluster 3: shape (10, 7, 7)\n",
      "Cluster 4: shape (13, 7, 7)\n",
      "Cluster 5: shape (10, 7, 7)\n",
      "Cluster 6: shape (15, 7, 7)\n",
      "Cluster 7: shape (6, 7, 7)\n",
      "Cluster 8: shape (9, 7, 7)\n",
      "Cluster 9: shape (11, 7, 7)\n"
     ]
    }
   ],
   "source": [
    "n = 100\n",
    "matrices = np.random.random((n, 7, 7))\n",
    "    \n",
    "k = 10  # number of clusters\n",
    "groups = group_matrices(matrices, k)\n",
    "\n",
    "for i, group in enumerate(groups):\n",
    "        print(f\"Cluster {i}: shape {group.shape}\")"
   ]
  },
  {
   "cell_type": "code",
   "execution_count": 28,
   "metadata": {},
   "outputs": [],
   "source": [
    "def characteristic_func(coalition):\n",
    "    if not coalition:\n",
    "        return 0.0\n",
    "    # each group have (n matrices, matrix) ==> concat [matrices] \n",
    "    all_matrices = np.concatenate([groups[i] for i in coalition], axis=0)\n",
    "    \n",
    "    return np.mean(np.square(all_matrices))"
   ]
  },
  {
   "cell_type": "code",
   "execution_count": 29,
   "metadata": {},
   "outputs": [],
   "source": [
    "def compute_nucleolus(num_players, characteristic_func):\n",
    "    \n",
    "    players = list(range(num_players))\n",
    "    \n",
    "    # Set up the linear programming problem\n",
    "    prob = pulp.LpProblem(\"Nucleolus\", pulp.LpMinimize)\n",
    "    \n",
    "    # Decision variables: one allocation x_i per player and epsilon\n",
    "    x = {i: pulp.LpVariable(f\"x_{i}\", lowBound=None, cat='Continuous') for i in players}\n",
    "    epsilon = pulp.LpVariable(\"epsilon\", lowBound=None, cat='Continuous')\n",
    "    \n",
    "    \n",
    "    # Objective: minimize epsilon (the worst excess)\n",
    "    prob += epsilon, \"Minimize_epsilon\"\n",
    "    \n",
    "    # Efficiency constraint: total allocation equals the value of the grand coalition\n",
    "    grand_coalition = tuple(players)\n",
    "    prob += pulp.lpSum([x[i] for i in players]) == characteristic_func(grand_coalition), \"Efficiency\"\n",
    "    \n",
    "    # For every proper coalition (nonempty and not the grand coalition),\n",
    "    # ensure that the allocated sum is at least v(S) - epsilon.\n",
    "    for r in range(1, num_players):\n",
    "        for S in itertools.combinations(players, r):\n",
    "            S = tuple(sorted(S))\n",
    "            prob += pulp.lpSum([x[i] for i in S]) >= characteristic_func(S) - epsilon, f\"Coalition_{S}\"\n",
    "    \n",
    "    # Solve the LP\n",
    "    prob.solve()\n",
    "    \n",
    "    allocation = [pulp.value(x[i]) for i in players]\n",
    "    eps_val = pulp.value(epsilon)\n",
    "    \n",
    "    return allocation, eps_val"
   ]
  },
  {
   "cell_type": "code",
   "execution_count": 30,
   "metadata": {},
   "outputs": [
    {
     "name": "stdout",
     "output_type": "stream",
     "text": [
      "Welcome to the CBC MILP Solver \n",
      "Version: 2.10.3 \n",
      "Build Date: Dec 15 2019 \n",
      "\n",
      "command line - /home/infres/xnguyen-24/xuanhoang_Environement/lib/python3.12/site-packages/pulp/apis/../solverdir/cbc/linux/i64/cbc /tmp/eb75bf53807243e4b6f0983cd3a56917-pulp.mps -timeMode elapsed -branch -printingOptions all -solution /tmp/eb75bf53807243e4b6f0983cd3a56917-pulp.sol (default strategy 1)\n",
      "At line 2 NAME          MODEL\n",
      "At line 3 ROWS\n",
      "At line 1028 COLUMNS\n",
      "At line 7172 RHS\n",
      "At line 8196 BOUNDS\n",
      "At line 8208 ENDATA\n",
      "Problem MODEL has 1023 rows, 11 columns and 6142 elements\n",
      "Coin0008I MODEL read with 0 errors\n",
      "Option for timeMode changed from cpu to elapsed\n",
      "Presolve 1023 (0) rows, 11 (0) columns and 6142 (0) elements\n",
      "Perturbing problem by 0.001% of 1 - largest nonzero change 0 ( 0%) - largest zero change 0\n",
      "0  Obj 0 Primal inf 338.24676 (1023) Dual inf 0.0099999 (1) w.o. free dual inf (0)\n",
      "10  Obj 0.36960866\n",
      "10  Obj -2.5e+10 Primal inf 2.555e+13 (766) Dual inf 9.0422e+15 (2) w.o. free dual inf (1)\n",
      "11  Obj 0.36701263 Dual inf 0.9999999 (1)\n",
      "49  Obj 0.3060064\n",
      "Optimal - objective value 0.3060064\n",
      "Optimal objective 0.306006405 - 49 iterations time 0.012\n",
      "Option for printingOptions changed from normal to all\n",
      "Total time (CPU seconds):       0.01   (Wallclock seconds):       0.01\n",
      "\n",
      "Nucleolus allocation (approximate): [0.085335143, 0.038809469, 0.040828198, 0.026231763, 0.0017188322, 0.044104275, -0.0053645836, 0.063602257, 0.022146394, 0.012578136]\n",
      "Worst excess (epsilon): 0.3060064\n"
     ]
    }
   ],
   "source": [
    "num_players = len(groups)\n",
    "allocation, eps_val = compute_nucleolus(num_players, characteristic_func)\n",
    "\n",
    "print(\"Nucleolus allocation (approximate):\", allocation)\n",
    "print(\"Worst excess (epsilon):\", eps_val)"
   ]
  },
  {
   "cell_type": "code",
   "execution_count": 31,
   "metadata": {},
   "outputs": [],
   "source": [
    "import scipy.cluster.hierarchy as sch\n",
    "from scipy.spatial.distance import squareform"
   ]
  },
  {
   "cell_type": "code",
   "execution_count": 32,
   "metadata": {},
   "outputs": [],
   "source": [
    "def compute_group_representative(group):\n",
    "    mean_matrix = np.mean(group, axis=0)  \n",
    "    return mean_matrix.flatten()  #eg 7*7 ==> 49        "
   ]
  },
  {
   "cell_type": "code",
   "execution_count": 33,
   "metadata": {},
   "outputs": [],
   "source": [
    "def compute_correlation_distance(vec1, vec2):\n",
    "    \n",
    "    if np.std(vec1) == 0 or np.std(vec2) == 0:\n",
    "        return 1.0\n",
    "    corr = np.corrcoef(vec1, vec2)[0, 1]\n",
    "    return 1 - corr"
   ]
  },
  {
   "cell_type": "code",
   "execution_count": 34,
   "metadata": {},
   "outputs": [],
   "source": [
    "def compute_custom_distance_matrix(groups, nucleolus_allocation, alpha):\n",
    "    \"\"\"\n",
    "    Distance between group i and j:\n",
    "      d = alpha * |nucleolus_i - nucleolus_j| + (1 - alpha) * (1 - corr(rep_i, rep_j))\n",
    "    \"\"\"\n",
    "    n = len(groups)\n",
    "\n",
    "    # Compute representative vectors for each group.\n",
    "    representatives = [compute_group_representative(group) for group in groups]\n",
    "    \n",
    "    dist_matrix = np.zeros((n, n))\n",
    "    for i in range(n):\n",
    "        for j in range(i + 1, n):\n",
    "            nuc_diff = abs(nucleolus_allocation[i] - nucleolus_allocation[j])\n",
    "            corr_dist = compute_correlation_distance(representatives[i], representatives[j])\n",
    "            distance = alpha * nuc_diff + (1 - alpha) * corr_dist\n",
    "            dist_matrix[i, j] = distance\n",
    "            dist_matrix[j, i] = distance\n",
    "    return dist_matrix\n"
   ]
  },
  {
   "cell_type": "code",
   "execution_count": 35,
   "metadata": {},
   "outputs": [],
   "source": [
    "def hierarchical_clustering(groups, nucleolus_allocation, alpha, n_clusters=3):\n",
    "    \"\"\"\n",
    "    Perform hierarchical clustering on the groups using the custom distance metric.\n",
    "    \n",
    "    Returns:\n",
    "        cluster_labels: An array with cluster labels for each group.\n",
    "        linkage_matrix: The hierarchical clustering linkage matrix.\n",
    "    \"\"\"\n",
    "    # Compute the full pairwise distance matrix.\n",
    "    dist_matrix = compute_custom_distance_matrix(groups, nucleolus_allocation, alpha)\n",
    "    \n",
    "    # Convert the square distance matrix to condensed form (required by linkage)\n",
    "    condensed_dist = squareform(dist_matrix)\n",
    "    \n",
    "    # Compute the hierarchical clustering using an average linkage.\n",
    "    linkage_matrix = sch.linkage(condensed_dist, method='average')\n",
    "    \n",
    "    # Assign each group a cluster label such that there are n_clusters clusters.\n",
    "    cluster_labels = sch.fcluster(linkage_matrix, t=n_clusters, criterion='maxclust')\n",
    "    \n",
    "    return cluster_labels, linkage_matrix"
   ]
  },
  {
   "cell_type": "code",
   "execution_count": 39,
   "metadata": {},
   "outputs": [
    {
     "name": "stdout",
     "output_type": "stream",
     "text": [
      "Welcome to the CBC MILP Solver \n",
      "Version: 2.10.3 \n",
      "Build Date: Dec 15 2019 \n",
      "\n",
      "command line - /home/infres/xnguyen-24/xuanhoang_Environement/lib/python3.12/site-packages/pulp/apis/../solverdir/cbc/linux/i64/cbc /tmp/4827116cd9544165952767592f625da5-pulp.mps -timeMode elapsed -branch -printingOptions all -solution /tmp/4827116cd9544165952767592f625da5-pulp.sol (default strategy 1)\n",
      "At line 2 NAME          MODEL\n",
      "At line 3 ROWS\n",
      "At line 1028 COLUMNS\n",
      "At line 7172 RHS\n",
      "At line 8196 BOUNDS\n",
      "At line 8208 ENDATA\n",
      "Problem MODEL has 1023 rows, 11 columns and 6142 elements\n",
      "Coin0008I MODEL read with 0 errors\n",
      "Option for timeMode changed from cpu to elapsed\n",
      "Presolve 1023 (0) rows, 11 (0) columns and 6142 (0) elements\n",
      "Perturbing problem by 0.001% of 1 - largest nonzero change 0 ( 0%) - largest zero change 0\n",
      "0  Obj 0 Primal inf 338.24676 (1023) Dual inf 0.0099999 (1) w.o. free dual inf (0)\n",
      "10  Obj 0.36960866\n",
      "10  Obj -2.5e+10 Primal inf 2.555e+13 (766) Dual inf 9.0422e+15 (2) w.o. free dual inf (1)\n",
      "11  Obj 0.36701263 Dual inf 0.9999999 (1)\n",
      "49  Obj 0.3060064\n",
      "Optimal - objective value 0.3060064\n",
      "Optimal objective 0.306006405 - 49 iterations time 0.012\n",
      "Option for printingOptions changed from normal to all\n",
      "Total time (CPU seconds):       0.01   (Wallclock seconds):       0.01\n",
      "\n"
     ]
    }
   ],
   "source": [
    "alpha = 0.5  \n",
    "nucleolus_allocation = compute_nucleolus(num_players, characteristic_func)[0]"
   ]
  },
  {
   "cell_type": "code",
   "execution_count": 41,
   "metadata": {},
   "outputs": [],
   "source": [
    "cluster_labels, linkage_matrix = hierarchical_clustering(groups, nucleolus_allocation, alpha, n_clusters=3)"
   ]
  },
  {
   "cell_type": "code",
   "execution_count": 42,
   "metadata": {},
   "outputs": [
    {
     "name": "stdout",
     "output_type": "stream",
     "text": [
      "Cluster labels for the 10 groups: [2 3 3 1 2 1 1 3 1 3]\n"
     ]
    }
   ],
   "source": [
    "print(\"Cluster labels for the 10 groups:\", cluster_labels)"
   ]
  },
  {
   "cell_type": "code",
   "execution_count": 45,
   "metadata": {},
   "outputs": [],
   "source": [
    "from sklearn.decomposition import PCA\n",
    "import matplotlib.pyplot as plt"
   ]
  },
  {
   "cell_type": "code",
   "execution_count": 46,
   "metadata": {},
   "outputs": [
    {
     "data": {
      "image/png": "[encoded data removed]",
      "text/plain": [
       "<Figure size 1000x500 with 1 Axes>"
      ]
     },
     "metadata": {},
     "output_type": "display_data"
    }
   ],
   "source": [
    "plt.figure(figsize=(10, 5))\n",
    "dendro = sch.dendrogram(linkage_matrix, color_threshold=0)\n",
    "plt.title(\"Hierarchical Clustering Dendrogram\")\n",
    "plt.xlabel(\"Group index\")\n",
    "plt.ylabel(\"Distance\")\n",
    "plt.axhline(y=linkage_matrix[-3, 2], color='r', linestyle='--', label=\"Threshold for 3 clusters\")\n",
    "plt.legend()\n",
    "plt.show()"
   ]
  },
  {
   "cell_type": "code",
   "execution_count": 48,
   "metadata": {},
   "outputs": [],
   "source": [
    "clusters = {}\n",
    "for idx, label in enumerate(cluster_labels):\n",
    "    clusters.setdefault(label, []).append(idx)\n"
   ]
  },
  {
   "cell_type": "code",
   "execution_count": 49,
   "metadata": {},
   "outputs": [
    {
     "name": "stdout",
     "output_type": "stream",
     "text": [
      "Cluster 2: Groups [0, 4]\n",
      "Cluster 3: Groups [1, 2, 7, 9]\n",
      "Cluster 1: Groups [3, 5, 6, 8]\n"
     ]
    }
   ],
   "source": [
    "# Display the extracted clusters.\n",
    "for label, group_indices in clusters.items():\n",
    "    print(f\"Cluster {label}: Groups {group_indices}\")"
   ]
  },
  {
   "cell_type": "code",
   "execution_count": null,
   "metadata": {},
   "outputs": [],
   "source": []
  }
 ],
 "metadata": {
  "kernelspec": {
   "display_name": "xuanhoang_Environement",
   "language": "python",
   "name": "python3"
  },
  "language_info": {
   "codemirror_mode": {
    "name": "ipython",
    "version": 3
   },
   "file_extension": ".py",
   "mimetype": "text/x-python",
   "name": "python",
   "nbconvert_exporter": "python",
   "pygments_lexer": "ipython3",
   "version": "3.12.3"
  }
 },
 "nbformat": 4,
 "nbformat_minor": 2
}
