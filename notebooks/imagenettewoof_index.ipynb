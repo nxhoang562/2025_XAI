{
 "cells": [
  {
   "cell_type": "code",
   "execution_count": 1,
   "metadata": {},
   "outputs": [
    {
     "name": "stdout",
     "output_type": "stream",
     "text": [
      "data\\imagewoof2-320\n"
     ]
    }
   ],
   "source": [
    "%load_ext autoreload\n",
    "\n",
    "%autoreload 2\n",
    "\n",
    "from data import imagenettewoof\n",
    "\n",
    "dataset = imagenettewoof(split=\"train\", size=\"320px\")"
   ]
  },
  {
   "cell_type": "code",
   "execution_count": 7,
   "metadata": {},
   "outputs": [
    {
     "name": "stdout",
     "output_type": "stream",
     "text": [
      "data\\imagewoof2-160\n",
      "Loaded label-to-indices mapping from data/imagenettewoof_val_160px.pkl\n",
      "[0, 1, 2, 3, 4, 5, 6, 7, 8, 9, 10, 11, 12, 13, 14, 15, 16, 17, 18, 19]\n",
      "data\\imagewoof2-320\n"
     ]
    },
    {
     "data": {
      "application/vnd.jupyter.widget-view+json": {
       "model_id": "f735eb7c1a944e22b45a72410568509b",
       "version_major": 2,
       "version_minor": 0
      },
      "text/plain": [
       "Building label index cache:   0%|          | 0/7854 [00:00<?, ?it/s]"
      ]
     },
     "metadata": {},
     "output_type": "display_data"
    },
    {
     "name": "stdout",
     "output_type": "stream",
     "text": [
      "Saved label-to-indices mapping to data/imagenettewoof_val_320px.pkl\n",
      "[0, 1, 2, 3, 4, 5, 6, 7, 8, 9, 10, 11, 12, 13, 14, 15, 16, 17, 18, 19]\n",
      "data\\imagewoof2-160\n"
     ]
    },
    {
     "data": {
      "application/vnd.jupyter.widget-view+json": {
       "model_id": "84b7567c75984cf3968c8717a48d075a",
       "version_major": 2,
       "version_minor": 0
      },
      "text/plain": [
       "Building label index cache:   0%|          | 0/18494 [00:00<?, ?it/s]"
      ]
     },
     "metadata": {},
     "output_type": "display_data"
    },
    {
     "name": "stdout",
     "output_type": "stream",
     "text": [
      "Saved label-to-indices mapping to data/imagenettewoof_train_160px.pkl\n",
      "[0, 1, 2, 3, 4, 5, 6, 7, 8, 9, 10, 11, 12, 13, 14, 15, 16, 17, 18, 19]\n",
      "data\\imagewoof2-320\n"
     ]
    },
    {
     "data": {
      "application/vnd.jupyter.widget-view+json": {
       "model_id": "96c98e698ab24a72adcbdabc34e38c19",
       "version_major": 2,
       "version_minor": 0
      },
      "text/plain": [
       "Building label index cache:   0%|          | 0/18494 [00:00<?, ?it/s]"
      ]
     },
     "metadata": {},
     "output_type": "display_data"
    },
    {
     "name": "stdout",
     "output_type": "stream",
     "text": [
      "Saved label-to-indices mapping to data/imagenettewoof_train_320px.pkl\n",
      "[0, 1, 2, 3, 4, 5, 6, 7, 8, 9, 10, 11, 12, 13, 14, 15, 16, 17, 18, 19]\n"
     ]
    }
   ],
   "source": [
    "import torch\n",
    "from tqdm.auto import tqdm\n",
    "from data import CachedLabelIndexDataset\n",
    "\n",
    "SPLITS = [\"val\", \"train\"]\n",
    "SIZES = [\"160px\", \"320px\"]\n",
    "\n",
    "for split in SPLITS:\n",
    "    for size in SIZES:\n",
    "        dataset = imagenettewoof(split=split, size=size)\n",
    "        cache_path = f\"data/imagenettewoof_{split}_{size}.pkl\"\n",
    "\n",
    "        labels_dataset = CachedLabelIndexDataset(dataset, cache_path)\n",
    "        print(labels_dataset.labels)"
   ]
  },
  {
   "cell_type": "code",
   "execution_count": 9,
   "metadata": {},
   "outputs": [
    {
     "ename": "RuntimeError",
     "evalue": "stack expects each tensor to be equal size, but got [963] at entry 0 and [955] at entry 1",
     "output_type": "error",
     "traceback": [
      "\u001b[1;31m---------------------------------------------------------------------------\u001b[0m",
      "\u001b[1;31mRuntimeError\u001b[0m                              Traceback (most recent call last)",
      "Cell \u001b[1;32mIn[9], line 3\u001b[0m\n\u001b[0;32m      1\u001b[0m unique_labels \u001b[38;5;241m=\u001b[39m torch\u001b[38;5;241m.\u001b[39munique(labels)\n\u001b[0;32m      2\u001b[0m \u001b[38;5;66;03m# For each unique labels, return the indices where the label appears\u001b[39;00m\n\u001b[1;32m----> 3\u001b[0m indices \u001b[38;5;241m=\u001b[39m \u001b[43mtorch\u001b[49m\u001b[38;5;241;43m.\u001b[39;49m\u001b[43mstack\u001b[49m\u001b[43m(\u001b[49m\u001b[43m[\u001b[49m\u001b[43mtorch\u001b[49m\u001b[38;5;241;43m.\u001b[39;49m\u001b[43mwhere\u001b[49m\u001b[43m(\u001b[49m\u001b[43mlabels\u001b[49m\u001b[43m \u001b[49m\u001b[38;5;241;43m==\u001b[39;49m\u001b[43m \u001b[49m\u001b[43mlabel\u001b[49m\u001b[43m)\u001b[49m\u001b[43m[\u001b[49m\u001b[38;5;241;43m0\u001b[39;49m\u001b[43m]\u001b[49m\u001b[43m \u001b[49m\u001b[38;5;28;43;01mfor\u001b[39;49;00m\u001b[43m \u001b[49m\u001b[43mlabel\u001b[49m\u001b[43m \u001b[49m\u001b[38;5;129;43;01min\u001b[39;49;00m\u001b[43m \u001b[49m\u001b[43munique_labels\u001b[49m\u001b[43m]\u001b[49m\u001b[43m)\u001b[49m\n\u001b[0;32m      4\u001b[0m \u001b[38;5;28mprint\u001b[39m(indices)\n",
      "\u001b[1;31mRuntimeError\u001b[0m: stack expects each tensor to be equal size, but got [963] at entry 0 and [955] at entry 1"
     ]
    }
   ],
   "source": [
    "unique_labels = torch.unique(labels)\n",
    "# For each unique labels, return the indices where the label appears\n",
    "indices = torch.stack([torch.where(labels == label)[0] for label in unique_labels])\n",
    "print(indices)"
   ]
  },
  {
   "cell_type": "code",
   "execution_count": null,
   "metadata": {},
   "outputs": [],
   "source": []
  }
 ],
 "metadata": {
  "kernelspec": {
   "display_name": "Python 3",
   "language": "python",
   "name": "python3"
  },
  "language_info": {
   "codemirror_mode": {
    "name": "ipython",
    "version": 3
   },
   "file_extension": ".py",
   "mimetype": "text/x-python",
   "name": "python",
   "nbconvert_exporter": "python",
   "pygments_lexer": "ipython3",
   "version": "3.10.11"
  }
 },
 "nbformat": 4,
 "nbformat_minor": 2
}
